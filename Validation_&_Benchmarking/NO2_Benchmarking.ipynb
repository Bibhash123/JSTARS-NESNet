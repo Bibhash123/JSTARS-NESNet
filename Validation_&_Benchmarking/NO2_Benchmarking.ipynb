{
  "nbformat": 4,
  "nbformat_minor": 0,
  "metadata": {
    "colab": {
      "name": "NO2 Benchmarking.ipynb",
      "provenance": [],
      "collapsed_sections": [],
      "authorship_tag": "ABX9TyMPs8rcUa2V0Oc31MThvub9",
      "include_colab_link": true
    },
    "kernelspec": {
      "display_name": "Python 3",
      "name": "python3"
    },
    "language_info": {
      "name": "python"
    }
  },
  "cells": [
    {
      "cell_type": "markdown",
      "metadata": {
        "id": "view-in-github",
        "colab_type": "text"
      },
      "source": [
        "<a href=\"https://colab.research.google.com/github/Bibhash123/JSTARS-NESNet/blob/main/Validation_%26_Benchmarking/NO2_Benchmarking.ipynb\" target=\"_parent\"><img src=\"https://colab.research.google.com/assets/colab-badge.svg\" alt=\"Open In Colab\"/></a>"
      ]
    },
    {
      "cell_type": "code",
      "metadata": {
        "id": "TPnV-ji5BAb6"
      },
      "source": [
        "!pip install -q kaggle\n",
        "from google.colab import files\n",
        "_ = files.upload()\n",
        "!mkdir ~/.kaggle/\n",
        "!cp kaggle.json ~/.kaggle/kaggle.json\n",
        "!chmod 600 ~/.kaggle/kaggle.json\n",
        "!kaggle datasets download -d bibhash123/ireland2021\n",
        "!unzip ireland2021.zip -d \"/content/dataset\"\n",
        "!rm ireland2021.zip\n",
        "from IPython.display import clear_output\n",
        "clear_output(wait=False)"
      ],
      "execution_count": null,
      "outputs": []
    },
    {
      "cell_type": "code",
      "metadata": {
        "id": "8dIUnVYl_i3M"
      },
      "source": [
        "!pip uninstall -y shapely\n",
        "!pip uninstall -y cartopy\n",
        "!pip install shapely cartopy --no-binary shapely --no-binary cartopy\n",
        "clear_output(wait=False)"
      ],
      "execution_count": null,
      "outputs": []
    },
    {
      "cell_type": "code",
      "metadata": {
        "id": "yXhlFGDFBu5H"
      },
      "source": [
        "import numpy as np\n",
        "import random\n",
        "import pandas as pd\n",
        "import matplotlib.pyplot as plt\n",
        "import tensorflow as tf\n",
        "import tensorflow.keras.layers as L\n",
        "import tensorflow.keras.backend as K\n",
        "from tensorflow.keras.models import Model\n",
        "from tensorflow.keras.optimizers import Adam\n",
        "from tensorflow.keras.metrics import RootMeanSquaredError\n",
        "from sklearn.metrics import mean_squared_error,mean_absolute_error\n",
        "from sklearn.preprocessing import StandardScaler\n",
        "import os\n",
        "from tensorflow.keras.callbacks import ModelCheckpoint\n",
        "from tqdm.notebook import tqdm\n",
        "from sklearn.model_selection import train_test_split\n",
        "# import utils\n",
        "\n",
        "SEED=123\n",
        "def seedAll(seed):\n",
        "  random.seed(seed)\n",
        "  np.random.seed(seed)\n",
        "  tf.random.set_seed(seed)\n",
        "  os.environ[\"PYTHONHASHSEED\"]=str(seed)\n",
        "\n",
        "seedAll(SEED)"
      ],
      "execution_count": null,
      "outputs": []
    },
    {
      "cell_type": "code",
      "metadata": {
        "id": "PbscsTf0DXz0"
      },
      "source": [
        "files = pd.read_csv(\"/content/dataset/files.csv\").sample(frac=1).reset_index(drop=True)"
      ],
      "execution_count": null,
      "outputs": []
    },
    {
      "cell_type": "code",
      "metadata": {
        "id": "kukkoir6IR5B"
      },
      "source": [
        "\n",
        "def pearson(y_true,y_pred):\n",
        "  if len(y_true.shape)!=1:\n",
        "    true = []\n",
        "    for i in range(y_true.shape[0]):\n",
        "      true.extend(y_true[i])\n",
        "    pred = []\n",
        "    for i in range(y_pred.shape[0]):\n",
        "      pred.extend(y_pred[i])\n",
        "  else:\n",
        "    true=y_true\n",
        "    pred=y_pred\n",
        "  return np.mean((np.array(true)-np.mean(true))*(np.array(pred)-np.mean(pred)))/(np.std(np.array(true))*np.std(np.array(pred)))\n",
        "\n",
        "def pearsonCorrAvgDays(true,pred):\n",
        "  # assert len(true.shape)>=3,\"true must have at least 3 dimensions, found {}\".format(len(true.shape))\n",
        "  assert true.shape==pred.shape, \"true and pred must have same shape, found {} and {}\".format(true.shape,pred.shape)\n",
        "  scores = []\n",
        "  for i in range(true.shape[0]):\n",
        "    scores.append(pearson(true[i],pred[i]))\n",
        "  return np.mean(scores),scores\n",
        "\n",
        "def pearsonCorrAvgPixels(true,pred):\n",
        "  scores = []\n",
        "  for i in range(true.shape[1]):\n",
        "    scores.append(pearson(true[:,i],pred[:,i]))\n",
        "  return np.mean(scores),scores"
      ],
      "execution_count": null,
      "outputs": []
    },
    {
      "cell_type": "code",
      "metadata": {
        "id": "RWJN_fBQDyDJ"
      },
      "source": [
        "def loadData(df,satdir = \"/content/dataset/satellite/\",gdir = \"/content/dataset/ground/\"):\n",
        "  X = []\n",
        "  Y = []\n",
        "  for i in range(df.shape[0]):\n",
        "    factor = 46*(6.02214/6.023)*1e2\n",
        "    sat = np.expand_dims(factor*np.load(os.path.join(satdir,df[\"SatFile\"].iloc[i])),axis=2).flatten()      \n",
        "    ground = np.load(os.path.join(gdir,df[\"GroundFile\"].iloc[i])).flatten()\n",
        "    if not np.isnan(np.sum(sat)) and not np.isnan(np.sum(ground)):\n",
        "      if not np.std(ground)==0:\n",
        "        X.append(sat)\n",
        "        Y.append(ground)\n",
        "  return np.stack(X,axis=0).flatten(),np.stack(Y,axis=0).flatten()"
      ],
      "execution_count": null,
      "outputs": []
    },
    {
      "cell_type": "code",
      "metadata": {
        "id": "lo6S3I-Iuaxh"
      },
      "source": [
        "def getDayWise(Y):\n",
        "  x = Y.shape[0]//3283\n",
        "  day_wise = []\n",
        "  for i in range(1,x+1,1):\n",
        "    day_wise.append(Y[(i-1)*3283:i*3283])\n",
        "  return np.stack(day_wise,axis=0)"
      ],
      "execution_count": null,
      "outputs": []
    },
    {
      "cell_type": "code",
      "metadata": {
        "colab": {
          "base_uri": "https://localhost:8080/"
        },
        "id": "9B9cyBrPuC1z",
        "outputId": "d444494f-46b5-48a8-c5c3-d3f45e0ff98d"
      },
      "source": [
        "from sklearn.linear_model import LinearRegression\n",
        "\n",
        "scores_list = []\n",
        "rmses = []\n",
        "maes = []\n",
        "pearsons = []\n",
        "\n",
        "for fold in range(5):\n",
        "  print(\"\\nFold {}\\n\".format(fold))\n",
        "  train_files = files[files[\"Fold\"]!=fold]\n",
        "  val_files = files[files[\"Fold\"]==fold]\n",
        "\n",
        "  X_train,Y_train = loadData(train_files)\n",
        "  X_val,Y_val = loadData(val_files)\n",
        "  # loss_plt = utils.loss_plt()\n",
        "  model = LinearRegression()\n",
        "  model.fit(X_train.reshape(-1,1),Y_train.reshape(-1,1))\n",
        "\n",
        "  pred = model.predict(X_val.reshape(-1,1))\n",
        "  rmse = mean_squared_error(Y_val,pred,squared=False)\n",
        "  mae = mean_absolute_error(Y_val,pred)\n",
        "  rmses.append(rmse)\n",
        "  maes.append(mae)\n",
        "\n",
        "  print(\"Fold {} RMSE Score: {}\".format(fold, rmse))\n",
        "  s,ls = pearsonCorrAvgDays(getDayWise(Y_val),getDayWise(pred)[:,:,0])\n",
        "  r2 = np.mean([i for i in ls if not pd.isnull(i)])\n",
        "  pearsons.append(r2)\n",
        "\n",
        "  print(\"Fold {} Pearson coeff avg over days: {}\".format(fold,r2))\n",
        "  scores_list.append(ls)\n",
        "print(\"\\nCV RMSE Score: {}\".format(np.mean(rmses)))\n",
        "print(\"\\nCV MAE Score: {}\".format(np.mean(maes)))\n",
        "print(\"\\nCV Pearson coeff avg over days: {}\".format(np.mean(pearsons)))"
      ],
      "execution_count": null,
      "outputs": [
        {
          "output_type": "stream",
          "text": [
            "\n",
            "Fold 0\n",
            "\n",
            "Fold 0 RMSE Score: 8.04099695866094\n",
            "Fold 0 Pearson coeff avg over days: 0.08522754578219918\n",
            "\n",
            "Fold 1\n",
            "\n",
            "Fold 1 RMSE Score: 9.646911780774055\n",
            "Fold 1 Pearson coeff avg over days: 0.07577245777999031\n",
            "\n",
            "Fold 2\n",
            "\n",
            "Fold 2 RMSE Score: 8.750869512512457\n",
            "Fold 2 Pearson coeff avg over days: 0.06767917069439142\n",
            "\n",
            "Fold 3\n",
            "\n",
            "Fold 3 RMSE Score: 8.255221453838372\n",
            "Fold 3 Pearson coeff avg over days: 0.08651048221729894\n",
            "\n",
            "Fold 4\n",
            "\n",
            "Fold 4 RMSE Score: 8.283215752539709\n",
            "Fold 4 Pearson coeff avg over days: 0.08796809601647614\n",
            "\n",
            "CV RMSE Score: 8.595443091665107\n",
            "\n",
            "CV MAE Score: 6.271226802812157\n",
            "\n",
            "CV Pearson coeff avg over days: 0.0806315504980712\n"
          ],
          "name": "stdout"
        }
      ]
    },
    {
      "cell_type": "code",
      "metadata": {
        "colab": {
          "base_uri": "https://localhost:8080/"
        },
        "id": "cBEor6Pqvumt",
        "outputId": "23fb1e11-5c94-40c7-f623-9848f02a4cd4"
      },
      "source": [
        "from xgboost import XGBRegressor\n",
        "\n",
        "scores_list = []\n",
        "rmses = []\n",
        "maes = []\n",
        "pearsons = []\n",
        "\n",
        "for fold in range(5):\n",
        "  print(\"\\nFold {}\\n\".format(fold))\n",
        "  train_files = files[files[\"Fold\"]!=fold]\n",
        "  val_files = files[files[\"Fold\"]==fold]\n",
        "\n",
        "  X_train,Y_train = loadData(train_files)\n",
        "  X_val,Y_val = loadData(val_files)\n",
        "  # loss_plt = utils.loss_plt()\n",
        "  model = XGBRegressor(objective=\"reg:squarederror\")\n",
        "  model.fit(X_train.reshape(-1,1),Y_train.reshape(-1,1))\n",
        "\n",
        "  rmse = mean_squared_error(Y_val,model.predict(X_val.reshape(-1,1)),squared=False)\n",
        "  mae = mean_absolute_error(Y_val,model.predict(X_val.reshape(-1,1)))\n",
        "  rmses.append(rmse)\n",
        "  maes.append(mae)\n",
        "\n",
        "  print(\"Fold {} RMSE Score: {}\".format(fold, rmse))\n",
        "  s,ls = pearsonCorrAvgDays(getDayWise(Y_val),getDayWise(model.predict(X_val.reshape(-1,1)))[:,:])\n",
        "  r2 = np.mean([i for i in ls if not pd.isnull(i)])\n",
        "  pearsons.append(r2)\n",
        "\n",
        "  print(\"Fold {} Pearson coeff avg over days: {}\".format(fold,r2))\n",
        "  scores_list.append(ls)\n",
        "print(\"\\nCV RMSE Score: {}\".format(np.mean(rmses)))\n",
        "print(\"\\nCV MAE Score: {}\".format(np.mean(maes)))\n",
        "print(\"\\nCV Pearson coeff avg over days: {}\".format(np.mean(pearsons)))"
      ],
      "execution_count": null,
      "outputs": [
        {
          "output_type": "stream",
          "text": [
            "\n",
            "Fold 0\n",
            "\n",
            "Fold 0 RMSE Score: 7.9557582251855585\n",
            "Fold 0 Pearson coeff avg over days: 0.03372149061656979\n",
            "\n",
            "Fold 1\n",
            "\n",
            "Fold 1 RMSE Score: 9.645708080378448\n",
            "Fold 1 Pearson coeff avg over days: 0.06263680448949949\n",
            "\n",
            "Fold 2\n",
            "\n",
            "Fold 2 RMSE Score: 8.619868891761797\n",
            "Fold 2 Pearson coeff avg over days: 0.042575083203024465\n",
            "\n",
            "Fold 3\n",
            "\n",
            "Fold 3 RMSE Score: 8.215765107047895\n",
            "Fold 3 Pearson coeff avg over days: 0.04848931695197552\n",
            "\n",
            "Fold 4\n",
            "\n",
            "Fold 4 RMSE Score: 8.23459226878722\n",
            "Fold 4 Pearson coeff avg over days: 0.04351926163916595\n",
            "\n",
            "CV RMSE Score: 8.534338514632184\n",
            "\n",
            "CV MAE Score: 6.217653208144083\n",
            "\n",
            "CV Pearson coeff avg over days: 0.04618839138004704\n"
          ],
          "name": "stdout"
        }
      ]
    },
    {
      "cell_type": "code",
      "metadata": {
        "id": "2-OWZrT9hQEe"
      },
      "source": [
        "from lightgbm import LGBMRegressor"
      ],
      "execution_count": null,
      "outputs": []
    },
    {
      "cell_type": "code",
      "metadata": {
        "colab": {
          "base_uri": "https://localhost:8080/"
        },
        "id": "qjwL7jP5OfOC",
        "outputId": "61ea55fd-2575-4974-a6fa-4210ed9c9665"
      },
      "source": [
        "\n",
        "scores_list = []\n",
        "rmses = []\n",
        "maes = []\n",
        "pearsons = []\n",
        "\n",
        "for fold in range(5):\n",
        "  print(\"\\nFold {}\\n\".format(fold))\n",
        "  train_files = files[files[\"Fold\"]!=fold]\n",
        "  val_files = files[files[\"Fold\"]==fold]\n",
        "\n",
        "  X_train,Y_train = loadData(train_files)\n",
        "  X_val,Y_val = loadData(val_files)\n",
        "  # loss_plt = utils.loss_plt()\n",
        "  model = LGBMRegressor()\n",
        "  model.fit(X_train.reshape(-1,1),Y_train.flatten())\n",
        "\n",
        "  rmse = mean_squared_error(Y_val,model.predict(X_val.reshape(-1,1)),squared=False)\n",
        "  mae = mean_absolute_error(Y_val,model.predict(X_val.reshape(-1,1)))\n",
        "  rmses.append(rmse)\n",
        "  maes.append(mae)\n",
        "\n",
        "  print(\"Fold {} RMSE Score: {}\".format(fold, rmse))\n",
        "  s,ls = pearsonCorrAvgDays(getDayWise(Y_val),getDayWise(model.predict(X_val.reshape(-1,1)))[:,:])\n",
        "  r2 = np.mean([i for i in ls if not pd.isnull(i)])\n",
        "  pearsons.append(r2)\n",
        "\n",
        "  print(\"Fold {} Pearson coeff avg over days: {}\".format(fold,r2))\n",
        "  scores_list.append(ls)\n",
        "print(\"\\nCV RMSE Score: {}\".format(np.mean(rmses)))\n",
        "print(\"\\nCV MAE Score: {}\".format(np.mean(maes)))\n",
        "print(\"\\nCV Pearson coeff avg over days: {}\".format(np.mean(pearsons)))"
      ],
      "execution_count": null,
      "outputs": [
        {
          "output_type": "stream",
          "text": [
            "\n",
            "Fold 0\n",
            "\n",
            "Fold 0 RMSE Score: 7.9609991044776836\n",
            "Fold 0 Pearson coeff avg over days: 0.03166280755267142\n",
            "\n",
            "Fold 1\n",
            "\n",
            "Fold 1 RMSE Score: 9.646612966158472\n",
            "Fold 1 Pearson coeff avg over days: 0.06013414630155294\n",
            "\n",
            "Fold 2\n",
            "\n",
            "Fold 2 RMSE Score: 8.626625626684648\n",
            "Fold 2 Pearson coeff avg over days: 0.04004679812882337\n",
            "\n",
            "Fold 3\n",
            "\n",
            "Fold 3 RMSE Score: 8.219681446110704\n",
            "Fold 3 Pearson coeff avg over days: 0.047438571562256435\n",
            "\n",
            "Fold 4\n",
            "\n",
            "Fold 4 RMSE Score: 8.236165020905746\n",
            "Fold 4 Pearson coeff avg over days: 0.043399600642152106\n",
            "\n",
            "CV RMSE Score: 8.53801683286745\n",
            "\n",
            "CV MAE Score: 6.221017147366679\n",
            "\n",
            "CV Pearson coeff avg over days: 0.04453638483749125\n"
          ],
          "name": "stdout"
        }
      ]
    },
    {
      "cell_type": "code",
      "metadata": {
        "id": "1-4LadOi0bfj"
      },
      "source": [
        ""
      ],
      "execution_count": null,
      "outputs": []
    }
  ]
}