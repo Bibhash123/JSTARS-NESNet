{
  "nbformat": 4,
  "nbformat_minor": 0,
  "metadata": {
    "colab": {
      "name": "SO2 and O3- Benchmarking.ipynb",
      "provenance": [],
      "authorship_tag": "ABX9TyNTzEYO5PtnQD3zA3Z/QrD7",
      "include_colab_link": true
    },
    "kernelspec": {
      "name": "python3",
      "display_name": "Python 3"
    },
    "language_info": {
      "name": "python"
    }
  },
  "cells": [
    {
      "cell_type": "markdown",
      "metadata": {
        "id": "view-in-github",
        "colab_type": "text"
      },
      "source": [
        "<a href=\"https://colab.research.google.com/github/Bibhash123/JSTARS-NESNet/blob/main/Validation_%26_Benchmarking/SO2_and_O3_Benchmarking.ipynb\" target=\"_parent\"><img src=\"https://colab.research.google.com/assets/colab-badge.svg\" alt=\"Open In Colab\"/></a>"
      ]
    },
    {
      "cell_type": "code",
      "metadata": {
        "id": "5ppBlyD85IYr"
      },
      "source": [
        "!pip install -q kaggle\n",
        "from google.colab import files\n",
        "_ = files.upload()\n",
        "!mkdir ~/.kaggle/\n",
        "!cp kaggle.json ~/.kaggle/kaggle.json\n",
        "!chmod 600 ~/.kaggle/kaggle.json\n",
        "\n",
        "!kaggle datasets download -d bibhash123/so2estimation\n",
        "!unzip so2estimation.zip -d \"/content/SO2dataset\"\n",
        "!rm so2estimation.zip\n",
        "\n",
        "!kaggle datasets download -d bibhash123/o3estimation\n",
        "!unzip o3estimation.zip -d \"/content/O3dataset\"\n",
        "!rm o3estimation.zip\n",
        "from IPython.display import clear_output\n",
        "clear_output(wait=False)"
      ],
      "execution_count": null,
      "outputs": []
    },
    {
      "cell_type": "code",
      "metadata": {
        "id": "1EnFzUaO5RXC"
      },
      "source": [
        "from sklearn.linear_model import LinearRegression\n",
        "from lightgbm import LGBMRegressor\n",
        "from xgboost import XGBRegressor\n",
        "import numpy as np\n",
        "import pandas as pd\n",
        "import os\n",
        "import random\n",
        "import tensorflow as tf\n",
        "from sklearn.metrics import mean_squared_error,mean_absolute_error\n",
        "\n",
        "SEED=123\n",
        "def seedAll(seed):\n",
        "  random.seed(seed)\n",
        "  np.random.seed(seed)\n",
        "  tf.random.set_seed(seed)\n",
        "  os.environ[\"PYTHONHASHSEED\"]=str(seed)\n",
        "\n",
        "seedAll(SEED)"
      ],
      "execution_count": null,
      "outputs": []
    },
    {
      "cell_type": "code",
      "metadata": {
        "id": "sQuBw7E_6iCQ"
      },
      "source": [
        "def pearson(y_true,y_pred):\n",
        "  if len(y_true.shape)!=1:\n",
        "    true = []\n",
        "    for i in range(y_true.shape[0]):\n",
        "      true.extend(y_true[i])\n",
        "    pred = []\n",
        "    for i in range(y_pred.shape[0]):\n",
        "      pred.extend(y_pred[i])\n",
        "  else:\n",
        "    true=y_true\n",
        "    pred=y_pred\n",
        "  return np.mean((np.array(true)-np.mean(true))*(np.array(pred)-np.mean(pred)))/(np.std(np.array(true))*np.std(np.array(pred)))\n",
        "\n",
        "def pearsonCorrAvgDays(true,pred):\n",
        "  # assert len(true.shape)>=3,\"true must have at least 3 dimensions, found {}\".format(len(true.shape))\n",
        "  assert true.shape==pred.shape, \"true and pred must have same shape, found {} and {}\".format(true.shape,pred.shape)\n",
        "  scores = []\n",
        "  for i in range(true.shape[0]):\n",
        "    scores.append(pearson(true[i],pred[i]))\n",
        "  return np.mean(scores),scores\n",
        "\n",
        "def pearsonCorrAvgPixels(true,pred):\n",
        "  scores = []\n",
        "  for i in range(true.shape[1]):\n",
        "    scores.append(pearson(true[:,i],pred[:,i]))\n",
        "  return np.mean(scores),scores"
      ],
      "execution_count": null,
      "outputs": []
    },
    {
      "cell_type": "code",
      "metadata": {
        "id": "3X2Y6acl6lnC"
      },
      "source": [
        "def loadData(df,satdir = \"/content/SO2dataset/satellite/\",gdir = \"/content/SO2dataset/ground/\"):\n",
        "  X = []\n",
        "  Y = []\n",
        "  for i in range(df.shape[0]):\n",
        "    factor = 46*(6.02214/6.023)*1e2\n",
        "    sat = np.expand_dims(factor*np.load(os.path.join(satdir,df[\"SatFile\"].iloc[i])),axis=2).flatten()      \n",
        "    ground = np.load(os.path.join(gdir,df[\"GroundFile\"].iloc[i])).flatten()\n",
        "    if not np.isnan(np.sum(sat)) and not np.isnan(np.sum(ground)):\n",
        "      if not np.std(ground)==0:\n",
        "        X.append(sat)\n",
        "        Y.append(ground)\n",
        "  return np.stack(X,axis=0).flatten(),np.stack(Y,axis=0).flatten()\n",
        "\n",
        "\n",
        "def getDayWise(Y,out_shape=3283):\n",
        "  x = Y.shape[0]//out_shape\n",
        "  day_wise = []\n",
        "  for i in range(1,x+1,1):\n",
        "    day_wise.append(Y[(i-1)*out_shape:i*out_shape])\n",
        "  return np.stack(day_wise,axis=0)"
      ],
      "execution_count": null,
      "outputs": []
    },
    {
      "cell_type": "markdown",
      "metadata": {
        "id": "6lSIMfmuAlVU"
      },
      "source": [
        "# SO<sub>2</sub>"
      ]
    },
    {
      "cell_type": "code",
      "metadata": {
        "id": "b9nP4jZK6dZ0"
      },
      "source": [
        "files = pd.read_csv(\"/content/SO2dataset/files.csv\").sample(frac=1).reset_index(drop=True)"
      ],
      "execution_count": null,
      "outputs": []
    },
    {
      "cell_type": "code",
      "metadata": {
        "colab": {
          "base_uri": "https://localhost:8080/"
        },
        "id": "kwZgCNqT6qOe",
        "outputId": "f51c20e2-e9fe-490a-b38e-039c37d82d7b"
      },
      "source": [
        "scores_list = []\n",
        "rmses = []\n",
        "maes = []\n",
        "pearsons = []\n",
        "\n",
        "for fold in range(5):\n",
        "  print(\"\\nFold {}\\n\".format(fold))\n",
        "  train_files = files[files[\"Fold\"]!=fold]\n",
        "  val_files = files[files[\"Fold\"]==fold]\n",
        "\n",
        "  X_train,Y_train = loadData(train_files)\n",
        "  X_val,Y_val = loadData(val_files)\n",
        "  # loss_plt = utils.loss_plt()\n",
        "  model = LinearRegression()\n",
        "  model.fit(X_train.reshape(-1,1),Y_train.reshape(-1,1))\n",
        "\n",
        "  pred = model.predict(X_val.reshape(-1,1))\n",
        "  rmse = mean_squared_error(Y_val,pred,squared=False)\n",
        "  mae = mean_absolute_error(Y_val,pred)\n",
        "  rmses.append(rmse)\n",
        "  maes.append(mae)\n",
        "\n",
        "  print(\"Fold {} RMSE Score: {}\".format(fold, rmse))\n",
        "  s,ls = pearsonCorrAvgDays(getDayWise(Y_val),getDayWise(pred)[:,:,0])\n",
        "  r2 = np.mean([i for i in ls if not pd.isnull(i)])\n",
        "  pearsons.append(r2)\n",
        "\n",
        "  print(\"Fold {} Pearson coeff avg over days: {}\".format(fold,r2))\n",
        "  scores_list.append(ls)\n",
        "print(\"\\nCV RMSE Score: {}\".format(np.mean(rmses)))\n",
        "print(\"\\nCV MAE Score: {}\".format(np.mean(maes)))\n",
        "print(\"\\nCV Pearson coeff avg over days: {}\".format(np.mean(pearsons)))"
      ],
      "execution_count": null,
      "outputs": [
        {
          "output_type": "stream",
          "name": "stdout",
          "text": [
            "\n",
            "Fold 0\n",
            "\n",
            "Fold 0 RMSE Score: 7.9204208542601275\n",
            "Fold 0 Pearson coeff avg over days: 0.0069865748637057135\n",
            "\n",
            "Fold 1\n",
            "\n",
            "Fold 1 RMSE Score: 8.839438013724363\n",
            "Fold 1 Pearson coeff avg over days: -0.004134171806520218\n",
            "\n",
            "Fold 2\n",
            "\n",
            "Fold 2 RMSE Score: 8.442438430857843\n",
            "Fold 2 Pearson coeff avg over days: -0.006444729770980234\n",
            "\n",
            "Fold 3\n",
            "\n",
            "Fold 3 RMSE Score: 8.409505949049278\n",
            "Fold 3 Pearson coeff avg over days: 0.0056445435171737285\n",
            "\n",
            "Fold 4\n",
            "\n",
            "Fold 4 RMSE Score: 6.34009426757259\n",
            "Fold 4 Pearson coeff avg over days: 0.0030477021168983692\n",
            "\n",
            "CV RMSE Score: 7.990379503092839\n",
            "\n",
            "CV MAE Score: 4.791578595657915\n",
            "\n",
            "CV Pearson coeff avg over days: 0.001019983784055472\n"
          ]
        }
      ]
    },
    {
      "cell_type": "code",
      "metadata": {
        "colab": {
          "base_uri": "https://localhost:8080/"
        },
        "id": "vC6brJ60-he6",
        "outputId": "97a75e2f-21b2-443f-b950-b0e164f3c46b"
      },
      "source": [
        "scores_list = []\n",
        "rmses = []\n",
        "maes = []\n",
        "pearsons = []\n",
        "\n",
        "for fold in range(5):\n",
        "  print(\"\\nFold {}\\n\".format(fold))\n",
        "  train_files = files[files[\"Fold\"]!=fold]\n",
        "  val_files = files[files[\"Fold\"]==fold]\n",
        "\n",
        "  X_train,Y_train = loadData(train_files)\n",
        "  X_val,Y_val = loadData(val_files)\n",
        "  # loss_plt = utils.loss_plt()\n",
        "  model = XGBRegressor(objective=\"reg:squarederror\")\n",
        "  model.fit(X_train.reshape(-1,1),Y_train.reshape(-1,1))\n",
        "\n",
        "  rmse = mean_squared_error(Y_val,model.predict(X_val.reshape(-1,1)),squared=False)\n",
        "  mae = mean_absolute_error(Y_val,model.predict(X_val.reshape(-1,1)))\n",
        "  rmses.append(rmse)\n",
        "  maes.append(mae)\n",
        "\n",
        "  print(\"Fold {} RMSE Score: {}\".format(fold, rmse))\n",
        "  s,ls = pearsonCorrAvgDays(getDayWise(Y_val),getDayWise(model.predict(X_val.reshape(-1,1)))[:,:])\n",
        "  r2 = np.mean([i for i in ls if not pd.isnull(i)])\n",
        "  pearsons.append(r2)\n",
        "\n",
        "  print(\"Fold {} Pearson coeff avg over days: {}\".format(fold,r2))\n",
        "  scores_list.append(ls)\n",
        "print(\"\\nCV RMSE Score: {}\".format(np.mean(rmses)))\n",
        "print(\"\\nCV MAE Score: {}\".format(np.mean(maes)))\n",
        "print(\"\\nCV Pearson coeff avg over days: {}\".format(np.mean(pearsons)))"
      ],
      "execution_count": null,
      "outputs": [
        {
          "output_type": "stream",
          "name": "stdout",
          "text": [
            "\n",
            "Fold 0\n",
            "\n",
            "Fold 0 RMSE Score: 7.9239971300631735\n",
            "Fold 0 Pearson coeff avg over days: -0.029171490393040414\n",
            "\n",
            "Fold 1\n",
            "\n",
            "Fold 1 RMSE Score: 8.82099461611264\n",
            "Fold 1 Pearson coeff avg over days: 0.002642456767600125\n",
            "\n",
            "Fold 2\n",
            "\n",
            "Fold 2 RMSE Score: 8.438140515872915\n",
            "Fold 2 Pearson coeff avg over days: -0.018783030073169952\n",
            "\n",
            "Fold 3\n",
            "\n",
            "Fold 3 RMSE Score: 8.393705743975607\n",
            "Fold 3 Pearson coeff avg over days: -0.01678525179868811\n",
            "\n",
            "Fold 4\n",
            "\n",
            "Fold 4 RMSE Score: 6.326457468715553\n",
            "Fold 4 Pearson coeff avg over days: -0.012840253712497949\n",
            "\n",
            "CV RMSE Score: 7.9806590949479785\n",
            "\n",
            "CV MAE Score: 4.79628035680234\n",
            "\n",
            "CV Pearson coeff avg over days: -0.01498751384195926\n"
          ]
        }
      ]
    },
    {
      "cell_type": "code",
      "metadata": {
        "colab": {
          "base_uri": "https://localhost:8080/"
        },
        "id": "k2vT7fTl-2mJ",
        "outputId": "daa48052-5359-48bd-d90f-5733ccaf9b87"
      },
      "source": [
        "scores_list = []\n",
        "rmses = []\n",
        "maes = []\n",
        "pearsons = []\n",
        "\n",
        "for fold in range(5):\n",
        "  print(\"\\nFold {}\\n\".format(fold))\n",
        "  train_files = files[files[\"Fold\"]!=fold]\n",
        "  val_files = files[files[\"Fold\"]==fold]\n",
        "\n",
        "  X_train,Y_train = loadData(train_files)\n",
        "  X_val,Y_val = loadData(val_files)\n",
        "  # loss_plt = utils.loss_plt()\n",
        "  model = LGBMRegressor()\n",
        "  model.fit(X_train.reshape(-1,1),Y_train.flatten())\n",
        "\n",
        "  rmse = mean_squared_error(Y_val,model.predict(X_val.reshape(-1,1)),squared=False)\n",
        "  mae = mean_absolute_error(Y_val,model.predict(X_val.reshape(-1,1)))\n",
        "  rmses.append(rmse)\n",
        "  maes.append(mae)\n",
        "\n",
        "  print(\"Fold {} RMSE Score: {}\".format(fold, rmse))\n",
        "  s,ls = pearsonCorrAvgDays(getDayWise(Y_val),getDayWise(model.predict(X_val.reshape(-1,1)))[:,:])\n",
        "  r2 = np.mean([i for i in ls if not pd.isnull(i)])\n",
        "  pearsons.append(r2)\n",
        "\n",
        "  print(\"Fold {} Pearson coeff avg over days: {}\".format(fold,r2))\n",
        "  scores_list.append(ls)\n",
        "print(\"\\nCV RMSE Score: {}\".format(np.mean(rmses)))\n",
        "print(\"\\nCV MAE Score: {}\".format(np.mean(maes)))\n",
        "print(\"\\nCV Pearson coeff avg over days: {}\".format(np.mean(pearsons)))"
      ],
      "execution_count": null,
      "outputs": [
        {
          "output_type": "stream",
          "name": "stdout",
          "text": [
            "\n",
            "Fold 0\n",
            "\n",
            "Fold 0 RMSE Score: 7.92479158051026\n",
            "Fold 0 Pearson coeff avg over days: -0.027624426525498767\n",
            "\n",
            "Fold 1\n",
            "\n",
            "Fold 1 RMSE Score: 8.822023468789544\n",
            "Fold 1 Pearson coeff avg over days: -0.00028239848633404384\n",
            "\n",
            "Fold 2\n",
            "\n",
            "Fold 2 RMSE Score: 8.439987520140201\n",
            "Fold 2 Pearson coeff avg over days: -0.01787699025003806\n",
            "\n",
            "Fold 3\n",
            "\n",
            "Fold 3 RMSE Score: 8.393209290321867\n",
            "Fold 3 Pearson coeff avg over days: -0.014910459606768336\n",
            "\n",
            "Fold 4\n",
            "\n",
            "Fold 4 RMSE Score: 6.326256916906433\n",
            "Fold 4 Pearson coeff avg over days: -0.01155473440569013\n",
            "\n",
            "CV RMSE Score: 7.981253755333659\n",
            "\n",
            "CV MAE Score: 4.796563385518146\n",
            "\n",
            "CV Pearson coeff avg over days: -0.014449801854865866\n"
          ]
        }
      ]
    },
    {
      "cell_type": "markdown",
      "metadata": {
        "id": "yoQJC6LBBKFq"
      },
      "source": [
        "# O<sub>3</sub>"
      ]
    },
    {
      "cell_type": "code",
      "metadata": {
        "id": "RXOB1aKhBNhB"
      },
      "source": [
        "files = pd.read_csv(\"/content/O3dataset/files.csv\").sample(frac=1).reset_index(drop=True)"
      ],
      "execution_count": null,
      "outputs": []
    },
    {
      "cell_type": "code",
      "metadata": {
        "colab": {
          "base_uri": "https://localhost:8080/"
        },
        "id": "wW8UxXCoBPnA",
        "outputId": "d7919d65-25a1-4437-8f15-fedef508fa68"
      },
      "source": [
        "scores_list = []\n",
        "rmses = []\n",
        "maes = []\n",
        "pearsons = []\n",
        "\n",
        "for fold in range(5):\n",
        "  print(\"\\nFold {}\\n\".format(fold))\n",
        "  train_files = files[files[\"Fold\"]!=fold]\n",
        "  val_files = files[files[\"Fold\"]==fold]\n",
        "\n",
        "  X_train,Y_train = loadData(train_files,satdir=\"/content/O3dataset/satellite/\",gdir='/content/O3dataset/ground/')\n",
        "  X_val,Y_val = loadData(val_files,satdir=\"/content/O3dataset/satellite/\",gdir='/content/O3dataset/ground/')\n",
        "  # loss_plt = utils.loss_plt()\n",
        "  model = LinearRegression()\n",
        "  model.fit(X_train.reshape(-1,1),Y_train.reshape(-1,1))\n",
        "\n",
        "  pred = model.predict(X_val.reshape(-1,1))\n",
        "  rmse = mean_squared_error(Y_val,pred,squared=False)\n",
        "  mae = mean_absolute_error(Y_val,pred)\n",
        "  rmses.append(rmse)\n",
        "  maes.append(mae)\n",
        "\n",
        "  print(\"Fold {} RMSE Score: {}\".format(fold, rmse))\n",
        "  s,ls = pearsonCorrAvgDays(getDayWise(Y_val),getDayWise(pred)[:,:,0])\n",
        "  r2 = np.mean([i for i in ls if not pd.isnull(i)])\n",
        "  pearsons.append(r2)\n",
        "\n",
        "  print(\"Fold {} Pearson coeff avg over days: {}\".format(fold,r2))\n",
        "  scores_list.append(ls)\n",
        "print(\"\\nCV RMSE Score: {}\".format(np.mean(rmses)))\n",
        "print(\"\\nCV MAE Score: {}\".format(np.mean(maes)))\n",
        "print(\"\\nCV Pearson coeff avg over days: {}\".format(np.mean(pearsons)))"
      ],
      "execution_count": null,
      "outputs": [
        {
          "output_type": "stream",
          "name": "stdout",
          "text": [
            "\n",
            "Fold 0\n",
            "\n",
            "Fold 0 RMSE Score: 20.118218210171975\n",
            "Fold 0 Pearson coeff avg over days: 0.11673511181248238\n",
            "\n",
            "Fold 1\n",
            "\n",
            "Fold 1 RMSE Score: 19.43209885819915\n",
            "Fold 1 Pearson coeff avg over days: 0.1607236160481196\n",
            "\n",
            "Fold 2\n",
            "\n",
            "Fold 2 RMSE Score: 18.78530527708602\n",
            "Fold 2 Pearson coeff avg over days: 0.06447347603914587\n",
            "\n",
            "Fold 3\n",
            "\n",
            "Fold 3 RMSE Score: 20.274511083835538\n",
            "Fold 3 Pearson coeff avg over days: 0.096551399478444\n",
            "\n",
            "Fold 4\n",
            "\n",
            "Fold 4 RMSE Score: 18.187697128564025\n",
            "Fold 4 Pearson coeff avg over days: 0.09618200286161274\n",
            "\n",
            "CV RMSE Score: 19.359566111571343\n",
            "\n",
            "CV MAE Score: 14.039631955296338\n",
            "\n",
            "CV Pearson coeff avg over days: 0.10693312124796092\n"
          ]
        }
      ]
    },
    {
      "cell_type": "code",
      "metadata": {
        "colab": {
          "base_uri": "https://localhost:8080/"
        },
        "id": "QmyPU3h8Bl7i",
        "outputId": "217ee9d8-7f40-4299-b03e-24104fe7801a"
      },
      "source": [
        "scores_list = []\n",
        "rmses = []\n",
        "maes = []\n",
        "pearsons = []\n",
        "\n",
        "for fold in range(5):\n",
        "  print(\"\\nFold {}\\n\".format(fold))\n",
        "  train_files = files[files[\"Fold\"]!=fold]\n",
        "  val_files = files[files[\"Fold\"]==fold]\n",
        "\n",
        "  X_train,Y_train = loadData(train_files,satdir=\"/content/O3dataset/satellite/\",gdir='/content/O3dataset/ground/')\n",
        "  X_val,Y_val = loadData(val_files,satdir=\"/content/O3dataset/satellite/\",gdir='/content/O3dataset/ground/')\n",
        "  \n",
        "  # loss_plt = utils.loss_plt()\n",
        "  model = XGBRegressor(objective=\"reg:squarederror\")\n",
        "  model.fit(X_train.reshape(-1,1),Y_train.reshape(-1,1))\n",
        "\n",
        "  rmse = mean_squared_error(Y_val,model.predict(X_val.reshape(-1,1)),squared=False)\n",
        "  mae = mean_absolute_error(Y_val,model.predict(X_val.reshape(-1,1)))\n",
        "  rmses.append(rmse)\n",
        "  maes.append(mae)\n",
        "\n",
        "  print(\"Fold {} RMSE Score: {}\".format(fold, rmse))\n",
        "  s,ls = pearsonCorrAvgDays(getDayWise(Y_val),getDayWise(model.predict(X_val.reshape(-1,1)))[:,:])\n",
        "  r2 = np.mean([i for i in ls if not pd.isnull(i)])\n",
        "  pearsons.append(r2)\n",
        "\n",
        "  print(\"Fold {} Pearson coeff avg over days: {}\".format(fold,r2))\n",
        "  scores_list.append(ls)\n",
        "print(\"\\nCV RMSE Score: {}\".format(np.mean(rmses)))\n",
        "print(\"\\nCV MAE Score: {}\".format(np.mean(maes)))\n",
        "print(\"\\nCV Pearson coeff avg over days: {}\".format(np.mean(pearsons)))"
      ],
      "execution_count": null,
      "outputs": [
        {
          "output_type": "stream",
          "name": "stdout",
          "text": [
            "\n",
            "Fold 0\n",
            "\n",
            "Fold 0 RMSE Score: 20.070831922876\n",
            "Fold 0 Pearson coeff avg over days: 0.07738052422231878\n",
            "\n",
            "Fold 1\n",
            "\n",
            "Fold 1 RMSE Score: 19.642754979826393\n",
            "Fold 1 Pearson coeff avg over days: 0.13167360451008012\n",
            "\n",
            "Fold 2\n",
            "\n",
            "Fold 2 RMSE Score: 18.281353967293644\n",
            "Fold 2 Pearson coeff avg over days: 0.06771333649876042\n",
            "\n",
            "Fold 3\n",
            "\n",
            "Fold 3 RMSE Score: 20.665961606353843\n",
            "Fold 3 Pearson coeff avg over days: 0.07797344097309206\n",
            "\n",
            "Fold 4\n",
            "\n",
            "Fold 4 RMSE Score: 18.778353640296498\n",
            "Fold 4 Pearson coeff avg over days: 0.04444347879845657\n",
            "\n",
            "CV RMSE Score: 19.487851223329276\n",
            "\n",
            "CV MAE Score: 14.156983315948713\n",
            "\n",
            "CV Pearson coeff avg over days: 0.07983687700054158\n"
          ]
        }
      ]
    },
    {
      "cell_type": "code",
      "metadata": {
        "colab": {
          "base_uri": "https://localhost:8080/"
        },
        "id": "FKKhY1boB1TI",
        "outputId": "d7d4143c-890f-40d3-ed5f-ff2aeb579cfb"
      },
      "source": [
        "scores_list = []\n",
        "rmses = []\n",
        "maes = []\n",
        "pearsons = []\n",
        "\n",
        "for fold in range(5):\n",
        "  print(\"\\nFold {}\\n\".format(fold))\n",
        "  train_files = files[files[\"Fold\"]!=fold]\n",
        "  val_files = files[files[\"Fold\"]==fold]\n",
        "\n",
        "  X_train,Y_train = loadData(train_files,satdir=\"/content/O3dataset/satellite/\",gdir='/content/O3dataset/ground/')\n",
        "  X_val,Y_val = loadData(val_files,satdir=\"/content/O3dataset/satellite/\",gdir='/content/O3dataset/ground/')\n",
        "  \n",
        "  # loss_plt = utils.loss_plt()\n",
        "  model = LGBMRegressor()\n",
        "  model.fit(X_train.reshape(-1,1),Y_train.flatten())\n",
        "\n",
        "  rmse = mean_squared_error(Y_val,model.predict(X_val.reshape(-1,1)),squared=False)\n",
        "  mae = mean_absolute_error(Y_val,model.predict(X_val.reshape(-1,1)))\n",
        "  rmses.append(rmse)\n",
        "  maes.append(mae)\n",
        "\n",
        "  print(\"Fold {} RMSE Score: {}\".format(fold, rmse))\n",
        "  s,ls = pearsonCorrAvgDays(getDayWise(Y_val),getDayWise(model.predict(X_val.reshape(-1,1)))[:,:])\n",
        "  r2 = np.mean([i for i in ls if not pd.isnull(i)])\n",
        "  pearsons.append(r2)\n",
        "\n",
        "  print(\"Fold {} Pearson coeff avg over days: {}\".format(fold,r2))\n",
        "  scores_list.append(ls)\n",
        "print(\"\\nCV RMSE Score: {}\".format(np.mean(rmses)))\n",
        "print(\"\\nCV MAE Score: {}\".format(np.mean(maes)))\n",
        "print(\"\\nCV Pearson coeff avg over days: {}\".format(np.mean(pearsons)))"
      ],
      "execution_count": null,
      "outputs": [
        {
          "output_type": "stream",
          "name": "stdout",
          "text": [
            "\n",
            "Fold 0\n",
            "\n",
            "Fold 0 RMSE Score: 20.134046704701024\n",
            "Fold 0 Pearson coeff avg over days: 0.06672528943658734\n",
            "\n",
            "Fold 1\n",
            "\n",
            "Fold 1 RMSE Score: 19.66018900461929\n",
            "Fold 1 Pearson coeff avg over days: 0.11274924010662216\n",
            "\n",
            "Fold 2\n",
            "\n",
            "Fold 2 RMSE Score: 18.373409477590926\n",
            "Fold 2 Pearson coeff avg over days: 0.06506208937333358\n",
            "\n",
            "Fold 3\n",
            "\n",
            "Fold 3 RMSE Score: 20.691541707484227\n",
            "Fold 3 Pearson coeff avg over days: 0.07003300605251478\n",
            "\n",
            "Fold 4\n",
            "\n",
            "Fold 4 RMSE Score: 18.79530848108473\n",
            "Fold 4 Pearson coeff avg over days: 0.040891065048074764\n",
            "\n",
            "CV RMSE Score: 19.530899075096038\n",
            "\n",
            "CV MAE Score: 14.194040271373169\n",
            "\n",
            "CV Pearson coeff avg over days: 0.07109213800342652\n"
          ]
        }
      ]
    },
    {
      "cell_type": "code",
      "metadata": {
        "id": "MzYVtUMYCFAw"
      },
      "source": [
        ""
      ],
      "execution_count": null,
      "outputs": []
    }
  ]
}